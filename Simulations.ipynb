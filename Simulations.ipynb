{
 "cells": [
  {
   "cell_type": "markdown",
   "metadata": {},
   "source": [
    "## Code Initialization"
   ]
  },
  {
   "cell_type": "code",
   "execution_count": 1,
   "metadata": {},
   "outputs": [],
   "source": [
    "%matplotlib inline\n",
    "import matplotlib.pyplot as plt\n",
    "plt.style.use('seaborn-whitegrid')\n",
    "import math, cmath, random"
   ]
  },
  {
   "cell_type": "markdown",
   "metadata": {},
   "source": [
    "## Functions"
   ]
  },
  {
   "cell_type": "code",
   "execution_count": 2,
   "metadata": {},
   "outputs": [],
   "source": [
    "def reset_pts(n=4, shift=0):\n",
    "    \n",
    "    points = []\n",
    "    \n",
    "    for k in range(n):\n",
    "        arg = k*2*math.pi/n + shift\n",
    "        points.append(complex(math.cos(arg), math.sin(arg)))\n",
    "    \n",
    "    return points\n",
    "\n",
    "def reorder(pts, new_order):\n",
    "    return [pts[i] for i in new_order]\n",
    "\n",
    "def convert_to_coords(pts):\n",
    "    return [p.real for p in pts], [p.imag for p in pts]"
   ]
  },
  {
   "cell_type": "code",
   "execution_count": 3,
   "metadata": {},
   "outputs": [],
   "source": [
    "def simulate(start_pts, step_size=0.001, stop_distance=0.005, return_center=False):\n",
    "    \n",
    "    n_pts = len(start_pts)\n",
    "    current_pts = [p for p in start_pts]\n",
    "    paths = [[start_pts[k]] for k in range(n_pts)]\n",
    "    center = sum(start_pts) / n_pts\n",
    "    \n",
    "    while True:\n",
    "        for k in range(n_pts):\n",
    "            if k == 0:\n",
    "                last_target = current_pts[0]\n",
    "                # need to store first pt, else last pt will step towards updated pos of first pt\n",
    "\n",
    "            if k == n_pts - 1:\n",
    "                target = last_target\n",
    "            else:\n",
    "                target = current_pts[k+1]\n",
    "            \n",
    "            step = (target - current_pts[k]) * step_size\n",
    "            current_pts[k] += step\n",
    "            \n",
    "            paths[k].append(current_pts[k])\n",
    "        \n",
    "        if all(abs(p - center) < stop_distance for p in current_pts) or any(abs(p - center) > 10 for p in current_pts):\n",
    "            break\n",
    "    \n",
    "    path_coords = [convert_to_coords(paths[k]) for k in range(n_pts)]\n",
    "    \n",
    "    if return_center:\n",
    "        center_coords = [center.real, center.imag]\n",
    "        \n",
    "        return path_coords, center_coords\n",
    "    else:\n",
    "        return path_coords\n"
   ]
  },
  {
   "cell_type": "code",
   "execution_count": 4,
   "metadata": {},
   "outputs": [],
   "source": [
    "def derivative(coords, degree=1, step=0.001):\n",
    "    \n",
    "    for i in range(degree):\n",
    "        deriv_coords = []\n",
    "        \n",
    "        for x, y in coords:\n",
    "            x_deriv = [(x[j+1] - x[j]) / step for j in range(len(x)-1)]\n",
    "            y_deriv = [(y[j+1] - y[j]) / step for j in range(len(x)-1)]\n",
    "\n",
    "            deriv_coords.append((x_deriv, y_deriv))\n",
    "        \n",
    "        coords = [deriv_coords[k] for k in range(len(deriv_coords))]\n",
    "    \n",
    "    return deriv_coords\n"
   ]
  },
  {
   "cell_type": "code",
   "execution_count": 5,
   "metadata": {},
   "outputs": [],
   "source": [
    "def graph(\n",
    "    paths=[],\n",
    "    points=[],\n",
    "    color='b',\n",
    "    c_dot=[],\n",
    "    axis_lim=[-1.25, 1.25],\n",
    "    tick=6,\n",
    "    save=''\n",
    "):\n",
    "    \n",
    "    plt.axis('square')\n",
    "    plt.xlim(*axis_lim)\n",
    "    plt.ylim(*axis_lim)\n",
    "    plt.locator_params(axis='both', nbins=tick, integer=False)\n",
    "    \n",
    "    for path in paths:\n",
    "        plt.plot(*path, color+',')\n",
    "        \n",
    "    if points:\n",
    "        plt.plot(*points, 'go')\n",
    "    \n",
    "    if c_dot:\n",
    "        plt.plot(*c_dot, 'ro')\n",
    "    \n",
    "    if save:\n",
    "        plt.savefig('Desktop/Graphs/'+save, format='eps', bbox_inches='tight')\n"
   ]
  },
  {
   "cell_type": "markdown",
   "metadata": {},
   "source": [
    "## Simulations"
   ]
  },
  {
   "cell_type": "code",
   "execution_count": 6,
   "metadata": {},
   "outputs": [
    {
     "data": {
      "image/png": "[encoded data removed]",
      "text/plain": [
       "<Figure size 432x288 with 1 Axes>"
      ]
     },
     "metadata": {},
     "output_type": "display_data"
    }
   ],
   "source": [
    "points = reset_pts()\n",
    "pt_coords = convert_to_coords(points)\n",
    "pa_coords, c = simulate(points, return_center=True)\n",
    "\n",
    "graph(pa_coords, pt_coords, c_dot=c, save='spiral.eps')"
   ]
  },
  {
   "cell_type": "code",
   "execution_count": 7,
   "metadata": {},
   "outputs": [
    {
     "data": {
      "image/png": "[encoded data removed]",
      "text/plain": [
       "<Figure size 432x288 with 1 Axes>"
      ]
     },
     "metadata": {},
     "output_type": "display_data"
    }
   ],
   "source": [
    "points = reset_pts()\n",
    "points = reorder(points, [0, 2, 1, 3])\n",
    "pt_coords = convert_to_coords(points)\n",
    "pa_coords, c = simulate(points, return_center=True)\n",
    "\n",
    "graph(pa_coords, pt_coords, c_dot=c, save='switched.eps')"
   ]
  },
  {
   "cell_type": "code",
   "execution_count": 8,
   "metadata": {},
   "outputs": [
    {
     "data": {
      "image/png": "[encoded data removed]",
      "text/plain": [
       "<Figure size 432x288 with 1 Axes>"
      ]
     },
     "metadata": {},
     "output_type": "display_data"
    }
   ],
   "source": [
    "graph([pa_coords[0]], pt_coords)\n",
    "graph([pa_coords[1]], color='c')\n",
    "graph([pa_coords[2]], color='m')\n",
    "graph([pa_coords[3]], color='y', c_dot=c, save='switched_colored.eps')"
   ]
  },
  {
   "cell_type": "code",
   "execution_count": 9,
   "metadata": {},
   "outputs": [
    {
     "data": {
      "image/png": "[encoded data removed]",
      "text/plain": [
       "<Figure size 432x288 with 1 Axes>"
      ]
     },
     "metadata": {},
     "output_type": "display_data"
    }
   ],
   "source": [
    "deriv_coords = derivative(pa_coords)\n",
    "\n",
    "graph([deriv_coords[0]])\n",
    "graph([deriv_coords[1]], color='c')\n",
    "graph([deriv_coords[2]], color='m')\n",
    "graph([deriv_coords[3]], color='y', axis_lim=[-2.25, 2.25], tick=10, save='derivative.eps')\n"
   ]
  },
  {
   "cell_type": "code",
   "execution_count": 10,
   "metadata": {},
   "outputs": [
    {
     "data": {
      "image/png": "[encoded data removed]",
      "text/plain": [
       "<Figure size 432x288 with 1 Axes>"
      ]
     },
     "metadata": {},
     "output_type": "display_data"
    }
   ],
   "source": [
    "deriv2_coords = derivative(deriv_coords)\n",
    "\n",
    "graph([deriv2_coords[0]])\n",
    "graph([deriv2_coords[1]], color='c')\n",
    "graph([deriv2_coords[2]], color='m')\n",
    "graph([deriv2_coords[3]], color='y', axis_lim=[-3.25, 3.25], tick=8, save='second_derivative.eps')\n"
   ]
  },
  {
   "cell_type": "code",
   "execution_count": 11,
   "metadata": {},
   "outputs": [
    {
     "data": {
      "image/png": "[encoded data removed]",
      "text/plain": [
       "<Figure size 432x288 with 1 Axes>"
      ]
     },
     "metadata": {},
     "output_type": "display_data"
    }
   ],
   "source": [
    "new_pa_coords = [(\n",
    "    [-3*x_coord-y_coord for x_coord, y_coord in zip(x, y)],\n",
    "    [-x_coord-3*y_coord for x_coord, y_coord in zip(x, y)]\n",
    ") for x, y in pa_coords]\n",
    "\n",
    "graph([new_pa_coords[0]])\n",
    "graph([new_pa_coords[1]], color='c')\n",
    "graph([new_pa_coords[2]], color='m')\n",
    "graph([new_pa_coords[3]], color='y', axis_lim=[-3.25, 3.25], tick=8, save='transformed.eps')\n"
   ]
  },
  {
   "cell_type": "code",
   "execution_count": 12,
   "metadata": {},
   "outputs": [
    {
     "data": {
      "image/png": "[encoded data removed]",
      "text/plain": [
       "<Figure size 432x288 with 1 Axes>"
      ]
     },
     "metadata": {},
     "output_type": "display_data"
    }
   ],
   "source": [
    "points = reset_pts(shift=-math.pi/4)\n",
    "points = reorder(points, [0, 2, 1, 3])\n",
    "pt_coords = convert_to_coords(points)\n",
    "pa_coords, c = simulate(points, return_center=True)\n",
    "\n",
    "graph([pa_coords[0]])\n",
    "graph([pa_coords[1]], color='c')\n",
    "graph([pa_coords[2]], color='m')\n",
    "graph([pa_coords[3]], pt_coords, color='y', c_dot=c, save='switched_rotated.eps')"
   ]
  },
  {
   "cell_type": "code",
   "execution_count": 13,
   "metadata": {},
   "outputs": [
    {
     "data": {
      "image/png": "[encoded data removed]",
      "text/plain": [
       "<Figure size 432x288 with 1 Axes>"
      ]
     },
     "metadata": {},
     "output_type": "display_data"
    }
   ],
   "source": [
    "points = [complex(random.uniform(-1, 1), random.uniform(-1, 1)) for k in range(5)]\n",
    "pa_coords, c = simulate(points, return_center=True)\n",
    "pt_coords = convert_to_coords(points)\n",
    "\n",
    "graph(pa_coords, pt_coords, c_dot=c, save='five_random.eps')\n",
    "# image generated here is likely not the same as the one used in paper, as it is random.\n"
   ]
  }
 ],
 "metadata": {
  "kernelspec": {
   "display_name": "Python 3",
   "language": "python",
   "name": "python3"
  },
  "language_info": {
   "codemirror_mode": {
    "name": "ipython",
    "version": 3
   },
   "file_extension": ".py",
   "mimetype": "text/x-python",
   "name": "python",
   "nbconvert_exporter": "python",
   "pygments_lexer": "ipython3",
   "version": "3.8.5"
  }
 },
 "nbformat": 4,
 "nbformat_minor": 4
}
